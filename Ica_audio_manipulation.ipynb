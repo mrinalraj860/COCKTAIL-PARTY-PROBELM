{
 "cells": [
  {
   "cell_type": "code",
   "execution_count": 2,
   "id": "f619e1ab-4156-42bf-aae3-3f7cc8acda9c",
   "metadata": {},
   "outputs": [],
   "source": [
    "import numpy as np\n",
    "from sklearn.decomposition import FastICA"
   ]
  },
  {
   "cell_type": "code",
   "execution_count": 3,
   "id": "4665c6a1-97bc-4fc1-991d-791cdb4974e1",
   "metadata": {},
   "outputs": [],
   "source": [
    "from scipy.io.wavfile import read"
   ]
  },
  {
   "cell_type": "code",
   "execution_count": 4,
   "id": "ae827a00-b109-4cb9-8f61-d15608cbfe3c",
   "metadata": {},
   "outputs": [],
   "source": [
    "a= read('scene01.wav')"
   ]
  },
  {
   "cell_type": "code",
   "execution_count": 9,
   "id": "bce63769-0631-4ff0-a7e4-7ce3e16b7049",
   "metadata": {},
   "outputs": [
    {
     "name": "stdout",
     "output_type": "stream",
     "text": [
      "[[  320   249  1069  1219]\n",
      " [  378   171   972   985]\n",
      " [  522   291  1168   668]\n",
      " ...\n",
      " [   77  -508 -5248 -3184]\n",
      " [ -240  -941 -5272 -2986]\n",
      " [  180  -429 -5012 -2667]]\n"
     ]
    }
   ],
   "source": [
    "print(a[1])\n",
    "list=np.array(a[1])"
   ]
  },
  {
   "cell_type": "code",
   "execution_count": 10,
   "id": "c2c4c153-d4ee-436e-9c32-3c41fb87f2a4",
   "metadata": {},
   "outputs": [
    {
     "data": {
      "text/plain": [
       "(26152960, 4)"
      ]
     },
     "execution_count": 10,
     "metadata": {},
     "output_type": "execute_result"
    }
   ],
   "source": [
    "list.shape"
   ]
  },
  {
   "cell_type": "code",
   "execution_count": 13,
   "id": "de8aafcb-f66e-4df5-9b9f-9112097c5c3c",
   "metadata": {},
   "outputs": [],
   "source": [
    "ica=FastICA(n_components=4)"
   ]
  },
  {
   "cell_type": "code",
   "execution_count": 14,
   "id": "b9e5481f-2dc4-4816-b2a9-3d12717b052c",
   "metadata": {},
   "outputs": [
    {
     "name": "stdout",
     "output_type": "stream",
     "text": [
      "[[ 4.37279326e-05  3.39324193e-07 -2.83943969e-05 -2.70566962e-05]\n",
      " [ 3.88059144e-05 -9.00704556e-06 -2.15491925e-05 -3.89642809e-05]\n",
      " [ 5.05901801e-05  2.07066371e-06 -7.56330378e-07 -6.38100344e-05]\n",
      " ...\n",
      " [ 4.21551896e-05 -1.02261712e-04  1.85208355e-04  1.84601370e-07]\n",
      " [-2.17076806e-05 -1.25506141e-04  1.33817816e-04  3.48455025e-05]\n",
      " [ 6.15362940e-05 -1.06744057e-04  1.74599723e-04 -4.30539236e-06]]\n"
     ]
    }
   ],
   "source": [
    "s=ica.fit_transform(list)\n",
    "a=ica.mixing_\n",
    "print(s)\n"
   ]
  },
  {
   "cell_type": "code",
   "execution_count": 15,
   "id": "1d565601-7651-46a9-aaf4-f7f91b615e91",
   "metadata": {},
   "outputs": [
    {
     "name": "stdout",
     "output_type": "stream",
     "text": [
      "[[  3136533.72854428  -1296321.56055327  -1006629.50089651\n",
      "   -5728513.53407777]\n",
      " [  4957220.1838025    5811706.35843395   -659828.85928412\n",
      "    -439597.76314235]\n",
      " [  1354431.93664081  16237745.5695976  -19664445.83622254\n",
      "  -16463260.03573366]\n",
      " [ 15300579.06267392   -924950.3944964  -21183794.88611466\n",
      "    1875090.24290751]]\n"
     ]
    }
   ],
   "source": [
    "print(a)"
   ]
  },
  {
   "cell_type": "code",
   "execution_count": 16,
   "id": "61e57344-d703-409d-96b3-71e367daaffc",
   "metadata": {},
   "outputs": [],
   "source": [
    "import matplotlib.pyplot as plt"
   ]
  },
  {
   "cell_type": "code",
   "execution_count": 42,
   "id": "6803cc41-c619-4f7f-804e-19ef07c337ef",
   "metadata": {},
   "outputs": [
    {
     "data": {
      "image/png": "[encoded data removed]",
      "text/plain": [
       "<Figure size 432x288 with 7 Axes>"
      ]
     },
     "metadata": {
      "needs_background": "light"
     },
     "output_type": "display_data"
    }
   ],
   "source": [
    "plt.figure()\n",
    "model=[list,s,a,a[0],a[1],a[2],a[3]]\n",
    "colors=['red','yellow','steelblue','orange','yellow','steelblue','orange']\n",
    "for ii, mo in enumerate(zip(model,colors),1):\n",
    "    plt.subplot(7,1,ii)\n",
    "    for sig,colo in zip(mo,color):\n",
    "        plt.plot(sig,color=colo)\n",
    "        \n",
    "#plt.subplots_adjust(0.09,0.04)\n",
    "plt.show()\n"
   ]
  },
  {
   "cell_type": "code",
   "execution_count": 52,
   "id": "bdcef72b-e719-46ff-b75a-46a598f371dd",
   "metadata": {},
   "outputs": [],
   "source": [
    "sep=s[:,0]"
   ]
  },
  {
   "cell_type": "code",
   "execution_count": 43,
   "id": "5395e7c6-31f3-4958-81b7-3bbeb682b42b",
   "metadata": {},
   "outputs": [],
   "source": [
    "import soundfile as sf"
   ]
  },
  {
   "cell_type": "code",
   "execution_count": 48,
   "id": "60c7c741-e971-42fa-9de5-22eb1346a238",
   "metadata": {},
   "outputs": [],
   "source": [
    "sf.write('a2.wav',s,48000,'PCM_32')"
   ]
  },
  {
   "cell_type": "code",
   "execution_count": 53,
   "id": "9efd6654-465c-4bd4-b98f-5caee5339467",
   "metadata": {},
   "outputs": [],
   "source": [
    "sf.write('seperate1.wav',sep,48000,'PCM_32')"
   ]
  },
  {
   "cell_type": "code",
   "execution_count": 55,
   "id": "07a6ec96-1379-4276-adcb-204b68d7db82",
   "metadata": {},
   "outputs": [],
   "source": [
    "from pydub import AudioSegment"
   ]
  },
  {
   "cell_type": "code",
   "execution_count": 56,
   "id": "d0f0de02-65f7-4a1f-aac8-10750e6c6f18",
   "metadata": {},
   "outputs": [],
   "source": [
    "from pydub.playback import play"
   ]
  },
  {
   "cell_type": "code",
   "execution_count": 64,
   "id": "a7cd1a01-6e4e-489c-b504-19e6d20e1a05",
   "metadata": {},
   "outputs": [],
   "source": [
    "lowder_s=s+10"
   ]
  },
  {
   "cell_type": "code",
   "execution_count": 65,
   "id": "dc118990-434a-4d68-b041-79ce6891f403",
   "metadata": {},
   "outputs": [],
   "source": [
    "sf.write('lowder_a.wav',lowder_s,48000,'PCM_32')"
   ]
  },
  {
   "cell_type": "code",
   "execution_count": null,
   "id": "b67d1029-eb49-4c74-9f9a-3558aaba72a6",
   "metadata": {},
   "outputs": [],
   "source": []
  },
  {
   "cell_type": "code",
   "execution_count": null,
   "id": "8eb20b97-cbbc-4a90-ab28-957d702f24ae",
   "metadata": {},
   "outputs": [],
   "source": []
  }
 ],
 "metadata": {
  "kernelspec": {
   "display_name": "Python 3 (ipykernel)",
   "language": "python",
   "name": "python3"
  },
  "language_info": {
   "codemirror_mode": {
    "name": "ipython",
    "version": 3
   },
   "file_extension": ".py",
   "mimetype": "text/x-python",
   "name": "python",
   "nbconvert_exporter": "python",
   "pygments_lexer": "ipython3",
   "version": "3.9.2"
  }
 },
 "nbformat": 4,
 "nbformat_minor": 5
}
